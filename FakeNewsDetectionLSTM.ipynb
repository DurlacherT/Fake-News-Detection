{
 "cells": [
  {
   "cell_type": "markdown",
   "metadata": {
    "collapsed": false,
    "jupyter": {
     "outputs_hidden": false
    }
   },
   "source": [
    "# Introduction"
   ]
  },
  {
   "cell_type": "markdown",
   "metadata": {
    "collapsed": false,
    "jupyter": {
     "outputs_hidden": false
    }
   },
   "source": [
    "## Topic\n",
    "\n",
    "In the age of information, the proliferation of fake news has become a significant societal challenge. Machine learning, with its ability to analyze vast amounts of data and recognize intricate patterns, has emerged as a powerful tool for detecting fake news. The process of fake news detection involves leveraging various techniques to distinguish between genuine and fabricated information. One fundamental approach to fake news detection involves feature engineering, where relevant characteristics of the text are extracted to train machine learning models. Features can include linguistic cues, such as the frequency of certain words, sentiment analysis, and syntactic structures. Additionally, metadata, like the source of the news and the publication date, can provide valuable context for model training. Supervised learning techniques are commonly employed in fake news detection. These models are trained on labeled datasets, where each piece of news is annotated as real or fake. Classification algorithms, such as Support Vector Machines (SVM), Random Forests, or more advanced methods like deep neural networks, learn to distinguish patterns in the data and make predictions on the authenticity of unseen news articles. Natural Language Processing (NLP) plays a pivotal role in fake news detection. NLP techniques enable machines to understand and interpret human language, facilitating the extraction of meaningful features for analysis. Sentiment analysis, topic modeling, and semantic analysis contribute to a nuanced understanding of the text, aiding in the identification of deceptive patterns. Unsupervised learning approaches are also explored, especially in scenarios where labeled data is scarce. Clustering techniques, anomaly detection, and network analysis can uncover patterns that deviate from the norm, signaling potential instances of fake news. However, the challenge lies in defining what constitutes a 'normal' pattern, and these methods may require fine-tuning to achieve optimal performance. The evolution of fake news tactics necessitates adaptive models. Transfer learning, where models pretrained on large datasets are fine-tuned for fake news detection, proves effective in learning generalized features. This enables the model to discern subtle patterns and adapt to emerging trends in deceptive information. Ensuring the robustness and ethical deployment of fake news detection models is paramount. Addressing issues of bias, interpretability, and transparency in machine learning models is an ongoing area of research. Striking a balance between accuracy and avoiding censorship of legitimate content remains a challenge, underscoring the interdisciplinary nature of fake news detection, which involves not only machine learning but also considerations from the fields of journalism, ethics, and information studies.\n",
    "\n",
    "### Objective\n",
    "\n",
    "The goal of this project is to develop a machine learning model capable of detecting fake news articles based on their title by leveraging the power of Long Short-Term Memory (LSTM) networks.\n",
    "\n",
    "### Dataset\n",
    "\n",
    "A labeled dataset consisting of both fake and real news articles was collected for training and evaluation. The dataset is preprocessed to clean and transform the text data into a format suitable for training the LSTM model.\n",
    "Dataset source: https://github.com/KaiDMML/FakeNewsNet\n",
    "Described in the following paper:\n",
    "Shu, Kai, Deepak Mahudeswaran, Suhang Wang, Dongwon Lee, and Huan Liu. ‘FakeNewsNet: A Data Repository with News Content, Social Context and Spatialtemporal Information for Studying Fake News on Social Media’, 2019.\n",
    "\n",
    "\n",
    "### Data Preprocessing\n",
    "\n",
    "Text data preprocessing involves converting text to lowercase, removing special characters, numbers, and punctuation, tokenization, and padding to ensure uniform input sizes for the LSTM model.\n",
    "\n",
    "### Model Architecture\n",
    "\n",
    "The LSTM model architecture is designed to capture sequential dependencies and long-term patterns in the text. It includes an Embedding layer for word representation, LSTM layers for sequential processing, and an output layer with a sigmoid activation function for binary classification.\n",
    "\n",
    "Long Short-Term Memory (LSTM) networks stand out as a crucial advancement in the realm of recurrent neural networks (RNNs), introduced by Sepp Hochreiter and Jürgen Schmidhuber in 1997. LSTMs are specifically engineered to tackle the challenge of learning long-term dependencies in sequential data, a task that conventional neural networks often struggle with due to their limited ability to retain information over extended sequences.\n",
    "At the core of LSTM architecture are memory cells, functioning as reservoirs for storing information over time. These cells play a pivotal role in capturing and preserving long-term dependencies in sequential data. The architectural innovation lies in the incorporation of gates, namely the input gate, forget gate, and output gate, which collectively enable the network to regulate the flow of information.\n",
    "The input gate governs the selection of information from the current input to be stored in the memory cell. Simultaneously, the forget gate manages the removal of unnecessary or outdated information from the memory cell. This dynamic control over information flow allows LSTMs to selectively retain relevant details over extended sequences. The third component, the output gate, decides which parts of the memory cell should contribute to the output at a given time step. This output, in the form of a hidden state, encapsulates a condensed representation of the information contained in the memory cell.\n",
    "The LSTM process unfolds iteratively at each time step of a sequence. The network takes an input, receives the hidden state and cell state from the preceding time step, and processes the input through the input gate. The cell state, akin to a conveyor belt, transports information across various time steps, facilitating the network's ability to capture and remember crucial details over long sequences. The hidden state derived from the output gate is then employed for making predictions or transmitted to subsequent LSTM units in the sequence\n",
    "\n",
    "### Training the Model\n",
    "\n",
    "The LSTM model is trained on the labeled dataset using appropriate loss functions, optimizers, and evaluation metrics (e.g., accuracy). During training, the model learns to distinguish between fake and real news based on the provided features.\n",
    "\n",
    "### Evaluation\n",
    "\n",
    "The trained model is evaluated on a separate validation set to assess its generalization performance. Metrics such as accuracy, and precision are considered to gauge the model's effectiveness in distinguishing between fake and real news.\n",
    "\n",
    "### Prediction and Thresholding\n",
    "\n",
    "Once trained, the model is used to predict the authenticity of new news articles. Predictions are made by feeding preprocessed text through the model, and a threshold is applied to classify articles as fake or real based on the predicted probabilities.\n",
    "\n",
    "## Deployment\n",
    "\n",
    "Because this is a student project the final trained model is not deployed in a production environment."
   ]
  },
  {
   "cell_type": "markdown",
   "metadata": {
    "id": "IvxSOqisc_EP"
   },
   "source": [
    "# Import libraries"
   ]
  },
  {
   "cell_type": "code",
   "execution_count": 1,
   "metadata": {
    "ExecuteTime": {
     "end_time": "2024-01-10T07:55:34.012658500Z",
     "start_time": "2024-01-10T07:55:33.965150900Z"
    },
    "colab": {
     "base_uri": "https://localhost:8080/"
    },
    "executionInfo": {
     "elapsed": 518,
     "status": "ok",
     "timestamp": 1700997485281,
     "user": {
      "displayName": "Thomas Durlacher",
      "userId": "14590206385638367679"
     },
     "user_tz": -60
    },
    "id": "zM3LpI-OTmYg",
    "outputId": "103fe853-9e69-43cb-8d49-5d7cb045c9ab"
   },
   "outputs": [
    {
     "name": "stdout",
     "output_type": "stream",
     "text": [
      "WARNING:tensorflow:From C:\\Users\\thoma\\anaconda3\\Lib\\site-packages\\keras\\src\\losses.py:2976: The name tf.losses.sparse_softmax_cross_entropy is deprecated. Please use tf.compat.v1.losses.sparse_softmax_cross_entropy instead.\n",
      "\n"
     ]
    }
   ],
   "source": [
    "import numpy as np\n",
    "import pandas as pd\n",
    "import tensorflow as tf\n",
    "import nltk\n",
    "import re\n",
    "import zipfile\n",
    "import matplotlib.pyplot as plt\n",
    "import seaborn as sns\n",
    "from nltk.tokenize import word_tokenize\n",
    "from nltk.probability import FreqDist\n"
   ]
  },
  {
   "cell_type": "markdown",
   "metadata": {
    "collapsed": false,
    "jupyter": {
     "outputs_hidden": false
    }
   },
   "source": [
    "Additionally, use NLTK language resources, such as corpora, lexical resources, grammars, etc., to support its functionalities. These resources are essential for tasks like text processing, analysis, and natural language understanding.\n",
    "\n",
    "Corpora: Corpora are large bodies of text used for linguistic research and analysis. NLTK includes various corpora for different languages and domains. In your code, you are downloading and extracting WordNet, which is a lexical database of the English language.\n",
    "\n",
    "Punkt: Punkt is a pre-trained unsupervised machine learning model for tokenizing sentences. It helps NLTK to accurately split text into sentences.\n",
    "\n",
    "WordNet: WordNet is a lexical database of the English language that relates words to one another in terms of synonyms, hypernyms, hyponyms, and more. It is a valuable resource for tasks such as word sense disambiguation and semantic analysis.\n",
    "\n",
    "Stopwords: NLTK includes a list of common stop words for different languages. Stop words are frequently used words (e.g., \"the,\" \"is,\" \"and\") that are often removed from text during natural language processing tasks because they typically don't carry significant meaning."
   ]
  },
  {
   "cell_type": "code",
   "execution_count": 2,
   "metadata": {
    "ExecuteTime": {
     "end_time": "2024-01-10T07:55:34.107355Z",
     "start_time": "2024-01-10T07:55:33.967658100Z"
    },
    "collapsed": false,
    "jupyter": {
     "outputs_hidden": false
    }
   },
   "outputs": [
    {
     "name": "stderr",
     "output_type": "stream",
     "text": [
      "[nltk_data] Downloading package punkt to ../kaggle/working/...\n",
      "[nltk_data]   Package punkt is already up-to-date!\n",
      "[nltk_data] Downloading package wordnet to ../kaggle/working/...\n",
      "[nltk_data]   Package wordnet is already up-to-date!\n",
      "[nltk_data] Downloading package stopwords to ../kaggle/working/...\n",
      "[nltk_data]   Package stopwords is already up-to-date!\n"
     ]
    }
   ],
   "source": [
    "\n",
    "nltk.download('punkt',download_dir=\"../kaggle/working/\")\n",
    "nltk.download('wordnet',download_dir=\"../kaggle/working/\")\n",
    "nltk.download('stopwords',download_dir=\"../kaggle/working/\")\n",
    "nltk.data.path.append('../kaggle/working/')\n",
    "\n",
    "with zipfile.ZipFile(\"../kaggle/working/corpora/wordnet.zip\", 'r') as zip_f:\n",
    "    zip_f.extractall(\"../kaggle/working/corpora/\")\n"
   ]
  },
  {
   "cell_type": "markdown",
   "metadata": {
    "id": "dKfpf4b5c9tO"
   },
   "source": []
  },
  {
   "cell_type": "markdown",
   "metadata": {
    "id": "7x5JEoUmW_5a"
   },
   "source": [
    "# Import Dataset"
   ]
  },
  {
   "cell_type": "markdown",
   "metadata": {
    "collapsed": false,
    "jupyter": {
     "outputs_hidden": false
    }
   },
   "source": [
    "First I load the dataset from local FakeNewsNet.csv file. The dropna method is used to remove any rows with missing values (NaN) from the DataFrame. The inplace=True parameter modifies the original DataFrame in place, meaning that the changes are applied directly to the df DataFrame. reset_index resets the index of the DataFrame after dropping rows with missing values. The inplace=True parameter again modifies the DataFrame in place.\n",
    "Here, the drop method is used to remove specific columns from the DataFrame. The columns to be dropped are specified in a list ([\"index\",\"news_url\",\"source_domain\",\"tweet_num\"]). The axis=1 parameter indicates that these are columns (not rows), and inplace=True ensures that the changes are applied directly to the DataFrame.\n",
    "\n"
   ]
  },
  {
   "cell_type": "code",
   "execution_count": 3,
   "metadata": {
    "ExecuteTime": {
     "end_time": "2024-01-10T07:55:34.204778500Z",
     "start_time": "2024-01-10T07:55:34.104355300Z"
    },
    "collapsed": false,
    "jupyter": {
     "outputs_hidden": false
    }
   },
   "outputs": [
    {
     "name": "stderr",
     "output_type": "stream",
     "text": [
      "C:\\Users\\thoma\\anaconda3\\Lib\\site-packages\\seaborn\\_oldcore.py:1498: FutureWarning: is_categorical_dtype is deprecated and will be removed in a future version. Use isinstance(dtype, CategoricalDtype) instead\n",
      "  if pd.api.types.is_categorical_dtype(vector):\n",
      "C:\\Users\\thoma\\anaconda3\\Lib\\site-packages\\seaborn\\_oldcore.py:1498: FutureWarning: is_categorical_dtype is deprecated and will be removed in a future version. Use isinstance(dtype, CategoricalDtype) instead\n",
      "  if pd.api.types.is_categorical_dtype(vector):\n",
      "C:\\Users\\thoma\\anaconda3\\Lib\\site-packages\\seaborn\\_oldcore.py:1498: FutureWarning: is_categorical_dtype is deprecated and will be removed in a future version. Use isinstance(dtype, CategoricalDtype) instead\n",
      "  if pd.api.types.is_categorical_dtype(vector):\n"
     ]
    },
    {
     "data": {
      "image/png": "[encoded data removed]",
      "text/plain": [
       "<Figure size 500x300 with 1 Axes>"
      ]
     },
     "metadata": {},
     "output_type": "display_data"
    }
   ],
   "source": [
    "df = pd.read_csv(\"FakeNewsNet.csv\")\n",
    "df\n",
    "\n",
    "df.dropna(inplace=True)\n",
    "df.reset_index(inplace=True)\n",
    "df.drop([\"index\",\"news_url\",\"source_domain\",\"tweet_num\"],axis=1,inplace=True)\n",
    "df.head()\n",
    "plt.figure(figsize=(5, 3))  # Set the size of the figure\n",
    "sns.countplot(data=df, x=\"real\")\n",
    "plt.show()"
   ]
  },
  {
   "cell_type": "code",
   "execution_count": 4,
   "metadata": {
    "ExecuteTime": {
     "end_time": "2024-01-10T07:55:34.204778500Z",
     "start_time": "2024-01-10T07:55:34.198796400Z"
    },
    "collapsed": false,
    "jupyter": {
     "outputs_hidden": false
    }
   },
   "outputs": [
    {
     "data": {
      "text/plain": [
       "'\\ndfa = pd.read_csv(\"combined.csv\")\\ndfa.dropna(inplace=True)\\n\\ndfa[\\'titletext\\'] = dfa.title + \"_\" + dfa.text\\ndfa.drop([\"id\", \"title\",\"text\",\"author\"],axis=1,inplace=True)\\ndfa.rename(columns={\\'titletext\\': \\'title\\'}, inplace=True)\\ndfa.rename(columns={\\'label\\': \\'real\\'}, inplace=True)\\n\\ndfa.head(10)\\n\\nplt.figure(figsize=(5, 3))  # Set the size of the figure\\nsns.countplot(data=dfa, x=\"real\")\\nplt.show()'"
      ]
     },
     "execution_count": 4,
     "metadata": {},
     "output_type": "execute_result"
    }
   ],
   "source": [
    "# Alternative dataset - similar results\n",
    "\"\"\"\n",
    "dfa = pd.read_csv(\"combined.csv\")\n",
    "dfa.dropna(inplace=True)\n",
    "\n",
    "dfa['titletext'] = dfa.title + \"_\" + dfa.text\n",
    "dfa.drop([\"id\", \"title\",\"text\",\"author\"],axis=1,inplace=True)\n",
    "dfa.rename(columns={'titletext': 'title'}, inplace=True)\n",
    "dfa.rename(columns={'label': 'real'}, inplace=True)\n",
    "\n",
    "dfa.head(10)\n",
    "\n",
    "plt.figure(figsize=(5, 3))  # Set the size of the figure\n",
    "sns.countplot(data=dfa, x=\"real\")\n",
    "plt.show()\"\"\""
   ]
  },
  {
   "cell_type": "markdown",
   "metadata": {
    "collapsed": false,
    "jupyter": {
     "outputs_hidden": false
    }
   },
   "source": [
    "# Data Preprocessing"
   ]
  },
  {
   "cell_type": "markdown",
   "metadata": {
    "collapsed": false,
    "jupyter": {
     "outputs_hidden": false
    }
   },
   "source": [
    "During the data preprocessing step the textual data from the csv is used to create a numerical representation of the text.  Word2Vec from the Gensim library is then used to train word embeddings."
   ]
  },
  {
   "cell_type": "code",
   "execution_count": 5,
   "metadata": {
    "ExecuteTime": {
     "end_time": "2024-01-10T07:55:34.212168Z",
     "start_time": "2024-01-10T07:55:34.201778Z"
    },
    "id": "4g0XDNgpUoT6"
   },
   "outputs": [
    {
     "data": {
      "text/plain": [
       "['i', 'me', 'my', 'myself', 'we', 'our', 'ours', 'ourselves', 'you', \"you're\"]"
      ]
     },
     "execution_count": 5,
     "metadata": {},
     "output_type": "execute_result"
    }
   ],
   "source": [
    "stopwords = nltk.corpus.stopwords.words(\"english\")\n",
    "stopwords[:10]"
   ]
  },
  {
   "cell_type": "markdown",
   "metadata": {
    "collapsed": false,
    "jupyter": {
     "outputs_hidden": false
    }
   },
   "source": [
    "This creates an instance of the WordNetLemmatizer from the nltk library. Lemmatization is a process of reducing words to their base or root form.\n",
    "It applies the lemTitles function to each element in the \"title\" column of the news_data DataFrame. The result is then assigned back to the \"title\" column.\n",
    "Then preprocess the \"title\" column of a DataFrame by tokenizing, cleaning, lemmatizing, and removing stopwords from the text. The lemmatization is performed using the WordNetLemmatizer from the nltk library."
   ]
  },
  {
   "cell_type": "code",
   "execution_count": 6,
   "metadata": {
    "ExecuteTime": {
     "end_time": "2024-01-10T07:55:36.730121800Z",
     "start_time": "2024-01-10T07:55:34.211167700Z"
    },
    "colab": {
     "base_uri": "https://localhost:8080/",
     "height": 206
    },
    "executionInfo": {
     "elapsed": 7002,
     "status": "ok",
     "timestamp": 1700997492833,
     "user": {
      "displayName": "Thomas Durlacher",
      "userId": "14590206385638367679"
     },
     "user_tz": -60
    },
    "id": "tjvI1x8LUqgF",
    "outputId": "23a71268-9200-42a6-a0bc-a1149a26d7d5"
   },
   "outputs": [
    {
     "name": "stdout",
     "output_type": "stream",
     "text": [
      "Most common words:\n",
      "kardashian: 1138\n",
      "new: 1056\n",
      "star: 932\n",
      "jennifer: 768\n",
      "2018: 759\n",
      "jenner: 747\n",
      "say: 731\n",
      "baby: 725\n",
      "kim: 710\n",
      "award: 689\n"
     ]
    },
    {
     "data": {
      "image/png": "[encoded data removed]",
      "text/plain": [
       "<Figure size 1200x600 with 1 Axes>"
      ]
     },
     "metadata": {},
     "output_type": "display_data"
    }
   ],
   "source": [
    "lemmatizer = nltk.stem.WordNetLemmatizer()\n",
    "\n",
    "def lemTitles(title):\n",
    "    words = nltk.word_tokenize(title)\n",
    "    words = [re.sub(\"[^a-zA-Z0-9]\",\"\",i).lower().strip() for i in words]\n",
    "    words = [lemmatizer.lemmatize(i) for i in words if i not in stopwords]\n",
    "    title = \" \".join(words)\n",
    "    return title\n",
    "\n",
    "df[\"title\"] = df[\"title\"].apply(lemTitles)\n",
    "df.head()\n",
    "\n",
    "dfplot = df\n",
    "text_data = ' '.join(dfplot['title'].dropna())\n",
    "# Tokenize the text into words\n",
    "tokens = word_tokenize(text_data)\n",
    "\n",
    "# Calculate word frequencies\n",
    "fdist = FreqDist(tokens)\n",
    "\n",
    "# Display the most common words\n",
    "print(\"Most common words:\")\n",
    "for word, frequency in fdist.most_common(10):\n",
    "    print(f\"{word}: {frequency}\")\n",
    "\n",
    "# Plot a bar chart of word frequencies\n",
    "plt.figure(figsize=(12, 6))\n",
    "common_words = fdist.most_common(30)\n",
    "words, frequencies = zip(*common_words)\n",
    "plt.bar(words, frequencies, color='skyblue')\n",
    "plt.title(f\"Top 30 Words in 'title'\")\n",
    "plt.xlabel(\"Words\")\n",
    "plt.ylabel(\"Frequency\")\n",
    "plt.xticks(rotation=45, ha='right')\n",
    "plt.show()"
   ]
  },
  {
   "cell_type": "code",
   "execution_count": 7,
   "metadata": {
    "ExecuteTime": {
     "end_time": "2024-01-10T07:55:36.736964400Z",
     "start_time": "2024-01-10T07:55:36.731141600Z"
    },
    "id": "1PEtKzy_UtLi"
   },
   "outputs": [],
   "source": [
    "VOCAB_SIZE = 10000\n",
    "DIMENSION = 100\n",
    "MAXLEN = 20"
   ]
  },
  {
   "cell_type": "code",
   "execution_count": 8,
   "metadata": {
    "ExecuteTime": {
     "end_time": "2024-01-10T07:55:36.920831500Z",
     "start_time": "2024-01-10T07:55:36.733764700Z"
    },
    "collapsed": false,
    "jupyter": {
     "outputs_hidden": false
    }
   },
   "outputs": [],
   "source": [
    "y = df[\"real\"].values\n",
    "X = []\n",
    "stop_words = set(nltk.corpus.stopwords.words(\"english\"))\n",
    "tokenizer = nltk.tokenize.RegexpTokenizer(r'\\w+')\n",
    "for par in df[\"title\"].values:\n",
    "    tmp = []\n",
    "    sentences = nltk.sent_tokenize(par)\n",
    "    for sent in sentences:\n",
    "        sent = sent.lower()\n",
    "        tokens = tokenizer.tokenize(sent)\n",
    "        filtered_words = [w.strip() for w in tokens if w not in stop_words and len(w) > 1]\n",
    "        tmp.extend(filtered_words)\n",
    "    X.append(tmp)\n",
    "\n",
    "import gensim\n",
    "# EMBEDDING_DIM = 100\n",
    "\n",
    "# w2v_model = gensim.models.Word2Vec(sentences=X, vector_size=EMBEDDING_DIM, window=5, min_count=1)"
   ]
  },
  {
   "cell_type": "code",
   "execution_count": 9,
   "metadata": {
    "ExecuteTime": {
     "end_time": "2024-01-10T07:55:37.465463400Z",
     "start_time": "2024-01-10T07:55:36.921831200Z"
    },
    "collapsed": false,
    "jupyter": {
     "outputs_hidden": false
    }
   },
   "outputs": [
    {
     "name": "stdout",
     "output_type": "stream",
     "text": [
      "16612\n"
     ]
    }
   ],
   "source": [
    "from tensorflow.keras.preprocessing.text import Tokenizer\n",
    "\n",
    "tokenizer = Tokenizer()\n",
    "tokenizer.fit_on_texts(X)\n",
    "\n",
    "word_index = tokenizer.word_index\n",
    "print(len(word_index))"
   ]
  },
  {
   "cell_type": "code",
   "execution_count": 10,
   "metadata": {
    "ExecuteTime": {
     "start_time": "2024-01-10T07:55:37.466463400Z"
    },
    "collapsed": false,
    "jupyter": {
     "outputs_hidden": false
    }
   },
   "outputs": [],
   "source": [
    "# w2v_model.wv[\"computer\"]\n"
   ]
  },
  {
   "cell_type": "code",
   "execution_count": 11,
   "metadata": {
    "ExecuteTime": {
     "start_time": "2024-01-10T07:55:37.468463600Z"
    },
    "collapsed": false,
    "jupyter": {
     "outputs_hidden": false
    }
   },
   "outputs": [],
   "source": [
    "# w2v_model.wv.most_similar(\"computer\")\n"
   ]
  },
  {
   "cell_type": "code",
   "execution_count": 12,
   "metadata": {
    "ExecuteTime": {
     "start_time": "2024-01-10T07:55:37.469463700Z"
    },
    "id": "8KhA0Wo9Uu10"
   },
   "outputs": [],
   "source": [
    "def oneHot(title):\n",
    "    return tf.keras.preprocessing.text.one_hot(title,VOCAB_SIZE)\n",
    "\n",
    "df[\"title\"] = df[\"title\"].apply(oneHot)"
   ]
  },
  {
   "cell_type": "markdown",
   "metadata": {
    "collapsed": false,
    "jupyter": {
     "outputs_hidden": false
    }
   },
   "source": [
    "For each word in the input text, the one_hot function assigns a unique integer between 0 and VOCAB_SIZE-1.\n",
    "The result is a list of integers, where the length of the list is equal to the number of words in the input text."
   ]
  },
  {
   "cell_type": "code",
   "execution_count": 13,
   "metadata": {
    "ExecuteTime": {
     "end_time": "2024-01-10T07:55:37.474462700Z",
     "start_time": "2024-01-10T07:55:37.470463900Z"
    },
    "colab": {
     "base_uri": "https://localhost:8080/",
     "height": 206
    },
    "executionInfo": {
     "elapsed": 6,
     "status": "ok",
     "timestamp": 1700997493219,
     "user": {
      "displayName": "Thomas Durlacher",
      "userId": "14590206385638367679"
     },
     "user_tz": -60
    },
    "id": "COg4h_miUwot",
    "outputId": "663d3d58-94f3-4f13-a2fa-caec95a518cb"
   },
   "outputs": [
    {
     "data": {
      "text/html": [
       "<div>\n",
       "<style scoped>\n",
       "    .dataframe tbody tr th:only-of-type {\n",
       "        vertical-align: middle;\n",
       "    }\n",
       "\n",
       "    .dataframe tbody tr th {\n",
       "        vertical-align: top;\n",
       "    }\n",
       "\n",
       "    .dataframe thead th {\n",
       "        text-align: right;\n",
       "    }\n",
       "</style>\n",
       "<table border=\"1\" class=\"dataframe\">\n",
       "  <thead>\n",
       "    <tr style=\"text-align: right;\">\n",
       "      <th></th>\n",
       "      <th>title</th>\n",
       "      <th>real</th>\n",
       "    </tr>\n",
       "  </thead>\n",
       "  <tbody>\n",
       "    <tr>\n",
       "      <th>0</th>\n",
       "      <td>[5223, 7432, 8656, 7658, 9076, 3150, 8723, 114...</td>\n",
       "      <td>1</td>\n",
       "    </tr>\n",
       "    <tr>\n",
       "      <th>1</th>\n",
       "      <td>[8750, 1575, 6251, 3176, 771, 687, 2510, 8908]</td>\n",
       "      <td>1</td>\n",
       "    </tr>\n",
       "    <tr>\n",
       "      <th>2</th>\n",
       "      <td>[5795, 6030, 5028, 5687, 2022, 8530, 9198, 954...</td>\n",
       "      <td>1</td>\n",
       "    </tr>\n",
       "    <tr>\n",
       "      <th>3</th>\n",
       "      <td>[1022, 4199, 5713, 5846, 7340, 9082, 6014, 3017]</td>\n",
       "      <td>1</td>\n",
       "    </tr>\n",
       "    <tr>\n",
       "      <th>4</th>\n",
       "      <td>[8881, 7637, 1152, 9719, 3698, 2954, 2526, 329...</td>\n",
       "      <td>1</td>\n",
       "    </tr>\n",
       "    <tr>\n",
       "      <th>...</th>\n",
       "      <td>...</td>\n",
       "      <td>...</td>\n",
       "    </tr>\n",
       "    <tr>\n",
       "      <th>95</th>\n",
       "      <td>[1369, 9808, 4806, 9739, 2180, 5314, 7134, 568...</td>\n",
       "      <td>1</td>\n",
       "    </tr>\n",
       "    <tr>\n",
       "      <th>96</th>\n",
       "      <td>[762, 3381, 8472, 1993, 5463, 6505, 5201, 4918...</td>\n",
       "      <td>0</td>\n",
       "    </tr>\n",
       "    <tr>\n",
       "      <th>97</th>\n",
       "      <td>[1936, 8278, 3958, 3879, 7386, 8730]</td>\n",
       "      <td>1</td>\n",
       "    </tr>\n",
       "    <tr>\n",
       "      <th>98</th>\n",
       "      <td>[8937, 7763, 7332, 9219, 2809, 3327, 6623, 2274]</td>\n",
       "      <td>1</td>\n",
       "    </tr>\n",
       "    <tr>\n",
       "      <th>99</th>\n",
       "      <td>[1237, 3923, 6137, 4623, 6358, 2638, 5190]</td>\n",
       "      <td>1</td>\n",
       "    </tr>\n",
       "  </tbody>\n",
       "</table>\n",
       "<p>100 rows × 2 columns</p>\n",
       "</div>"
      ],
      "text/plain": [
       "                                                title  real\n",
       "0   [5223, 7432, 8656, 7658, 9076, 3150, 8723, 114...     1\n",
       "1      [8750, 1575, 6251, 3176, 771, 687, 2510, 8908]     1\n",
       "2   [5795, 6030, 5028, 5687, 2022, 8530, 9198, 954...     1\n",
       "3    [1022, 4199, 5713, 5846, 7340, 9082, 6014, 3017]     1\n",
       "4   [8881, 7637, 1152, 9719, 3698, 2954, 2526, 329...     1\n",
       "..                                                ...   ...\n",
       "95  [1369, 9808, 4806, 9739, 2180, 5314, 7134, 568...     1\n",
       "96  [762, 3381, 8472, 1993, 5463, 6505, 5201, 4918...     0\n",
       "97               [1936, 8278, 3958, 3879, 7386, 8730]     1\n",
       "98   [8937, 7763, 7332, 9219, 2809, 3327, 6623, 2274]     1\n",
       "99         [1237, 3923, 6137, 4623, 6358, 2638, 5190]     1\n",
       "\n",
       "[100 rows x 2 columns]"
      ]
     },
     "execution_count": 13,
     "metadata": {},
     "output_type": "execute_result"
    }
   ],
   "source": [
    "df.head(100)\n"
   ]
  },
  {
   "cell_type": "code",
   "execution_count": 14,
   "metadata": {
    "ExecuteTime": {
     "start_time": "2024-01-10T07:55:37.471463900Z"
    },
    "colab": {
     "base_uri": "https://localhost:8080/"
    },
    "executionInfo": {
     "elapsed": 6,
     "status": "ok",
     "timestamp": 1700997493219,
     "user": {
      "displayName": "Thomas Durlacher",
      "userId": "14590206385638367679"
     },
     "user_tz": -60
    },
    "id": "GEbzmTgrUySM",
    "outputId": "4a831dec-f78d-4fda-8b32-675ed0d688f3"
   },
   "outputs": [
    {
     "data": {
      "text/plain": [
       "(22866, 2)"
      ]
     },
     "execution_count": 14,
     "metadata": {},
     "output_type": "execute_result"
    }
   ],
   "source": [
    "df.shape"
   ]
  },
  {
   "cell_type": "code",
   "execution_count": 15,
   "metadata": {
    "ExecuteTime": {
     "start_time": "2024-01-10T07:55:37.472464100Z"
    },
    "colab": {
     "base_uri": "https://localhost:8080/"
    },
    "executionInfo": {
     "elapsed": 5,
     "status": "ok",
     "timestamp": 1700997493219,
     "user": {
      "displayName": "Thomas Durlacher",
      "userId": "14590206385638367679"
     },
     "user_tz": -60
    },
    "id": "AJ4GslS4U0z2",
    "outputId": "b2ade236-b7db-4db2-9458-758694c57b20"
   },
   "outputs": [
    {
     "data": {
      "text/plain": [
       "(22866, 20)"
      ]
     },
     "execution_count": 15,
     "metadata": {},
     "output_type": "execute_result"
    }
   ],
   "source": [
    "data = pd.DataFrame(tf.keras.utils.pad_sequences(df[\"title\"],padding=\"pre\",maxlen=MAXLEN))\n",
    "data.shape"
   ]
  },
  {
   "cell_type": "code",
   "execution_count": 16,
   "metadata": {
    "ExecuteTime": {
     "start_time": "2024-01-10T07:55:37.473463500Z"
    },
    "colab": {
     "base_uri": "https://localhost:8080/"
    },
    "executionInfo": {
     "elapsed": 4,
     "status": "ok",
     "timestamp": 1700997493219,
     "user": {
      "displayName": "Thomas Durlacher",
      "userId": "14590206385638367679"
     },
     "user_tz": -60
    },
    "id": "uBJoTYEgU2K8",
    "outputId": "251bcf37-e009-4b69-9ce9-62c4ce8235f6"
   },
   "outputs": [
    {
     "data": {
      "text/plain": [
       "(22866, 22)"
      ]
     },
     "execution_count": 16,
     "metadata": {},
     "output_type": "execute_result"
    }
   ],
   "source": [
    "df = pd.concat((df,data),axis=1)\n",
    "df.shape"
   ]
  },
  {
   "cell_type": "code",
   "execution_count": 17,
   "metadata": {
    "ExecuteTime": {
     "start_time": "2024-01-10T07:55:37.473463500Z"
    },
    "colab": {
     "base_uri": "https://localhost:8080/",
     "height": 1000
    },
    "executionInfo": {
     "elapsed": 4,
     "status": "ok",
     "timestamp": 1700997493219,
     "user": {
      "displayName": "Thomas Durlacher",
      "userId": "14590206385638367679"
     },
     "user_tz": -60
    },
    "id": "bBpBkvKDU2IT",
    "outputId": "1c94dd1a-e4d5-417a-e308-58727c1320f4"
   },
   "outputs": [
    {
     "data": {
      "text/html": [
       "<div>\n",
       "<style scoped>\n",
       "    .dataframe tbody tr th:only-of-type {\n",
       "        vertical-align: middle;\n",
       "    }\n",
       "\n",
       "    .dataframe tbody tr th {\n",
       "        vertical-align: top;\n",
       "    }\n",
       "\n",
       "    .dataframe thead th {\n",
       "        text-align: right;\n",
       "    }\n",
       "</style>\n",
       "<table border=\"1\" class=\"dataframe\">\n",
       "  <thead>\n",
       "    <tr style=\"text-align: right;\">\n",
       "      <th></th>\n",
       "      <th>title</th>\n",
       "      <th>real</th>\n",
       "      <th>0</th>\n",
       "      <th>1</th>\n",
       "      <th>2</th>\n",
       "      <th>3</th>\n",
       "      <th>4</th>\n",
       "      <th>5</th>\n",
       "      <th>6</th>\n",
       "      <th>7</th>\n",
       "      <th>...</th>\n",
       "      <th>10</th>\n",
       "      <th>11</th>\n",
       "      <th>12</th>\n",
       "      <th>13</th>\n",
       "      <th>14</th>\n",
       "      <th>15</th>\n",
       "      <th>16</th>\n",
       "      <th>17</th>\n",
       "      <th>18</th>\n",
       "      <th>19</th>\n",
       "    </tr>\n",
       "  </thead>\n",
       "  <tbody>\n",
       "    <tr>\n",
       "      <th>0</th>\n",
       "      <td>[5223, 7432, 8656, 7658, 9076, 3150, 8723, 114...</td>\n",
       "      <td>1</td>\n",
       "      <td>0</td>\n",
       "      <td>0</td>\n",
       "      <td>0</td>\n",
       "      <td>0</td>\n",
       "      <td>0</td>\n",
       "      <td>0</td>\n",
       "      <td>0</td>\n",
       "      <td>0</td>\n",
       "      <td>...</td>\n",
       "      <td>5223</td>\n",
       "      <td>7432</td>\n",
       "      <td>8656</td>\n",
       "      <td>7658</td>\n",
       "      <td>9076</td>\n",
       "      <td>3150</td>\n",
       "      <td>8723</td>\n",
       "      <td>1145</td>\n",
       "      <td>1125</td>\n",
       "      <td>50</td>\n",
       "    </tr>\n",
       "    <tr>\n",
       "      <th>1</th>\n",
       "      <td>[8750, 1575, 6251, 3176, 771, 687, 2510, 8908]</td>\n",
       "      <td>1</td>\n",
       "      <td>0</td>\n",
       "      <td>0</td>\n",
       "      <td>0</td>\n",
       "      <td>0</td>\n",
       "      <td>0</td>\n",
       "      <td>0</td>\n",
       "      <td>0</td>\n",
       "      <td>0</td>\n",
       "      <td>...</td>\n",
       "      <td>0</td>\n",
       "      <td>0</td>\n",
       "      <td>8750</td>\n",
       "      <td>1575</td>\n",
       "      <td>6251</td>\n",
       "      <td>3176</td>\n",
       "      <td>771</td>\n",
       "      <td>687</td>\n",
       "      <td>2510</td>\n",
       "      <td>8908</td>\n",
       "    </tr>\n",
       "    <tr>\n",
       "      <th>2</th>\n",
       "      <td>[5795, 6030, 5028, 5687, 2022, 8530, 9198, 954...</td>\n",
       "      <td>1</td>\n",
       "      <td>0</td>\n",
       "      <td>0</td>\n",
       "      <td>0</td>\n",
       "      <td>0</td>\n",
       "      <td>0</td>\n",
       "      <td>0</td>\n",
       "      <td>5795</td>\n",
       "      <td>6030</td>\n",
       "      <td>...</td>\n",
       "      <td>2022</td>\n",
       "      <td>8530</td>\n",
       "      <td>9198</td>\n",
       "      <td>9548</td>\n",
       "      <td>5783</td>\n",
       "      <td>2514</td>\n",
       "      <td>3362</td>\n",
       "      <td>3964</td>\n",
       "      <td>3937</td>\n",
       "      <td>4605</td>\n",
       "    </tr>\n",
       "    <tr>\n",
       "      <th>3</th>\n",
       "      <td>[1022, 4199, 5713, 5846, 7340, 9082, 6014, 3017]</td>\n",
       "      <td>1</td>\n",
       "      <td>0</td>\n",
       "      <td>0</td>\n",
       "      <td>0</td>\n",
       "      <td>0</td>\n",
       "      <td>0</td>\n",
       "      <td>0</td>\n",
       "      <td>0</td>\n",
       "      <td>0</td>\n",
       "      <td>...</td>\n",
       "      <td>0</td>\n",
       "      <td>0</td>\n",
       "      <td>1022</td>\n",
       "      <td>4199</td>\n",
       "      <td>5713</td>\n",
       "      <td>5846</td>\n",
       "      <td>7340</td>\n",
       "      <td>9082</td>\n",
       "      <td>6014</td>\n",
       "      <td>3017</td>\n",
       "    </tr>\n",
       "    <tr>\n",
       "      <th>4</th>\n",
       "      <td>[8881, 7637, 1152, 9719, 3698, 2954, 2526, 329...</td>\n",
       "      <td>1</td>\n",
       "      <td>0</td>\n",
       "      <td>0</td>\n",
       "      <td>0</td>\n",
       "      <td>0</td>\n",
       "      <td>0</td>\n",
       "      <td>0</td>\n",
       "      <td>8881</td>\n",
       "      <td>7637</td>\n",
       "      <td>...</td>\n",
       "      <td>3698</td>\n",
       "      <td>2954</td>\n",
       "      <td>2526</td>\n",
       "      <td>3296</td>\n",
       "      <td>447</td>\n",
       "      <td>635</td>\n",
       "      <td>9655</td>\n",
       "      <td>4921</td>\n",
       "      <td>3917</td>\n",
       "      <td>4411</td>\n",
       "    </tr>\n",
       "    <tr>\n",
       "      <th>5</th>\n",
       "      <td>[6732, 5475, 2179, 4497, 375, 1057, 8098, 3668...</td>\n",
       "      <td>0</td>\n",
       "      <td>0</td>\n",
       "      <td>0</td>\n",
       "      <td>0</td>\n",
       "      <td>0</td>\n",
       "      <td>0</td>\n",
       "      <td>0</td>\n",
       "      <td>0</td>\n",
       "      <td>0</td>\n",
       "      <td>...</td>\n",
       "      <td>0</td>\n",
       "      <td>6732</td>\n",
       "      <td>5475</td>\n",
       "      <td>2179</td>\n",
       "      <td>4497</td>\n",
       "      <td>375</td>\n",
       "      <td>1057</td>\n",
       "      <td>8098</td>\n",
       "      <td>3668</td>\n",
       "      <td>7988</td>\n",
       "    </tr>\n",
       "    <tr>\n",
       "      <th>6</th>\n",
       "      <td>[4909, 4930, 6596, 8570, 1158, 6622]</td>\n",
       "      <td>0</td>\n",
       "      <td>0</td>\n",
       "      <td>0</td>\n",
       "      <td>0</td>\n",
       "      <td>0</td>\n",
       "      <td>0</td>\n",
       "      <td>0</td>\n",
       "      <td>0</td>\n",
       "      <td>0</td>\n",
       "      <td>...</td>\n",
       "      <td>0</td>\n",
       "      <td>0</td>\n",
       "      <td>0</td>\n",
       "      <td>0</td>\n",
       "      <td>4909</td>\n",
       "      <td>4930</td>\n",
       "      <td>6596</td>\n",
       "      <td>8570</td>\n",
       "      <td>1158</td>\n",
       "      <td>6622</td>\n",
       "    </tr>\n",
       "    <tr>\n",
       "      <th>7</th>\n",
       "      <td>[5052, 9843, 3711, 1127, 189, 9011, 1291, 4183...</td>\n",
       "      <td>0</td>\n",
       "      <td>0</td>\n",
       "      <td>0</td>\n",
       "      <td>0</td>\n",
       "      <td>0</td>\n",
       "      <td>0</td>\n",
       "      <td>0</td>\n",
       "      <td>0</td>\n",
       "      <td>0</td>\n",
       "      <td>...</td>\n",
       "      <td>5052</td>\n",
       "      <td>9843</td>\n",
       "      <td>3711</td>\n",
       "      <td>1127</td>\n",
       "      <td>189</td>\n",
       "      <td>9011</td>\n",
       "      <td>1291</td>\n",
       "      <td>4183</td>\n",
       "      <td>5172</td>\n",
       "      <td>8322</td>\n",
       "    </tr>\n",
       "    <tr>\n",
       "      <th>8</th>\n",
       "      <td>[239, 6198, 6466, 5233, 481, 708, 7681, 9430, ...</td>\n",
       "      <td>1</td>\n",
       "      <td>0</td>\n",
       "      <td>0</td>\n",
       "      <td>0</td>\n",
       "      <td>0</td>\n",
       "      <td>0</td>\n",
       "      <td>0</td>\n",
       "      <td>0</td>\n",
       "      <td>0</td>\n",
       "      <td>...</td>\n",
       "      <td>239</td>\n",
       "      <td>6198</td>\n",
       "      <td>6466</td>\n",
       "      <td>5233</td>\n",
       "      <td>481</td>\n",
       "      <td>708</td>\n",
       "      <td>7681</td>\n",
       "      <td>9430</td>\n",
       "      <td>4957</td>\n",
       "      <td>63</td>\n",
       "    </tr>\n",
       "    <tr>\n",
       "      <th>9</th>\n",
       "      <td>[5043, 4921, 3689, 9036, 266, 1511]</td>\n",
       "      <td>1</td>\n",
       "      <td>0</td>\n",
       "      <td>0</td>\n",
       "      <td>0</td>\n",
       "      <td>0</td>\n",
       "      <td>0</td>\n",
       "      <td>0</td>\n",
       "      <td>0</td>\n",
       "      <td>0</td>\n",
       "      <td>...</td>\n",
       "      <td>0</td>\n",
       "      <td>0</td>\n",
       "      <td>0</td>\n",
       "      <td>0</td>\n",
       "      <td>5043</td>\n",
       "      <td>4921</td>\n",
       "      <td>3689</td>\n",
       "      <td>9036</td>\n",
       "      <td>266</td>\n",
       "      <td>1511</td>\n",
       "    </tr>\n",
       "  </tbody>\n",
       "</table>\n",
       "<p>10 rows × 22 columns</p>\n",
       "</div>"
      ],
      "text/plain": [
       "                                               title  real  0  1  2  3  4  5  \\\n",
       "0  [5223, 7432, 8656, 7658, 9076, 3150, 8723, 114...     1  0  0  0  0  0  0   \n",
       "1     [8750, 1575, 6251, 3176, 771, 687, 2510, 8908]     1  0  0  0  0  0  0   \n",
       "2  [5795, 6030, 5028, 5687, 2022, 8530, 9198, 954...     1  0  0  0  0  0  0   \n",
       "3   [1022, 4199, 5713, 5846, 7340, 9082, 6014, 3017]     1  0  0  0  0  0  0   \n",
       "4  [8881, 7637, 1152, 9719, 3698, 2954, 2526, 329...     1  0  0  0  0  0  0   \n",
       "5  [6732, 5475, 2179, 4497, 375, 1057, 8098, 3668...     0  0  0  0  0  0  0   \n",
       "6               [4909, 4930, 6596, 8570, 1158, 6622]     0  0  0  0  0  0  0   \n",
       "7  [5052, 9843, 3711, 1127, 189, 9011, 1291, 4183...     0  0  0  0  0  0  0   \n",
       "8  [239, 6198, 6466, 5233, 481, 708, 7681, 9430, ...     1  0  0  0  0  0  0   \n",
       "9                [5043, 4921, 3689, 9036, 266, 1511]     1  0  0  0  0  0  0   \n",
       "\n",
       "      6     7  ...    10    11    12    13    14    15    16    17    18    19  \n",
       "0     0     0  ...  5223  7432  8656  7658  9076  3150  8723  1145  1125    50  \n",
       "1     0     0  ...     0     0  8750  1575  6251  3176   771   687  2510  8908  \n",
       "2  5795  6030  ...  2022  8530  9198  9548  5783  2514  3362  3964  3937  4605  \n",
       "3     0     0  ...     0     0  1022  4199  5713  5846  7340  9082  6014  3017  \n",
       "4  8881  7637  ...  3698  2954  2526  3296   447   635  9655  4921  3917  4411  \n",
       "5     0     0  ...     0  6732  5475  2179  4497   375  1057  8098  3668  7988  \n",
       "6     0     0  ...     0     0     0     0  4909  4930  6596  8570  1158  6622  \n",
       "7     0     0  ...  5052  9843  3711  1127   189  9011  1291  4183  5172  8322  \n",
       "8     0     0  ...   239  6198  6466  5233   481   708  7681  9430  4957    63  \n",
       "9     0     0  ...     0     0     0     0  5043  4921  3689  9036   266  1511  \n",
       "\n",
       "[10 rows x 22 columns]"
      ]
     },
     "execution_count": 17,
     "metadata": {},
     "output_type": "execute_result"
    }
   ],
   "source": [
    "df.head(10)"
   ]
  },
  {
   "cell_type": "markdown",
   "metadata": {
    "collapsed": false,
    "jupyter": {
     "outputs_hidden": false
    }
   },
   "source": [
    "# Modeling"
   ]
  },
  {
   "cell_type": "markdown",
   "metadata": {
    "collapsed": false,
    "jupyter": {
     "outputs_hidden": false
    }
   },
   "source": [
    " I used the scikit-learn library to split a dataset into training and testing sets. Additionally, a set of columns (cols) is used to define features for the machine learning model."
   ]
  },
  {
   "cell_type": "code",
   "execution_count": 18,
   "metadata": {
    "ExecuteTime": {
     "start_time": "2024-01-10T07:55:37.474462700Z"
    },
    "id": "D3esj53WU2Fi"
   },
   "outputs": [],
   "source": [
    "from sklearn.model_selection import train_test_split\n",
    "from sklearn.metrics import accuracy_score,roc_auc_score,precision_score, confusion_matrix\n",
    "\n",
    "cols = [i for i in range(0,20)]\n",
    "seed = np.random.seed(6)\n",
    "\n",
    "X = df[cols]\n",
    "y = df[\"real\"]\n",
    "\n",
    "X_train, X_test, y_train, y_test = train_test_split(X,y, test_size=0.25,random_state=seed)"
   ]
  },
  {
   "cell_type": "markdown",
   "metadata": {
    "collapsed": false,
    "jupyter": {
     "outputs_hidden": false
    }
   },
   "source": [
    "This line initializes a sequential model, which is a linear stack of layers.\n",
    "This line adds an Embedding layer to the model. This layer is often used in natural language processing tasks to map words to dense vectors of fixed size. The parameters are as follows:\n",
    "\n",
    "VOCAB_SIZE: The size of the vocabulary, which is the number of unique words in the dataset.\n",
    "DIMENSION: The dimensionality of the embedding vectors.\n",
    "input_length: The length of the input sequences, which is set to the number of columns (len(cols)) in the feature set.\n",
    "This line adds a Bidirectional LSTM layer with 128 units. Bidirectional LSTMs process the input sequences from both forward and backward directions, which can capture contextual information effectively. The return_sequences=True parameter means that the layer returns the full sequence of outputs for each input sequence.\n",
    "\n",
    "This line adds a Dropout layer, which helps prevent overfitting by randomly setting a fraction of input units to zero during training.\n",
    "\n",
    "The compile method configures the model for training. It specifies the optimizer, loss function, and metrics to be used during training. Here, the Adam optimizer is used, binary crossentropy is chosen as the loss function for binary classification, and accuracy is chosen as the evaluation metric.\n",
    "\n"
   ]
  },
  {
   "cell_type": "code",
   "execution_count": 19,
   "metadata": {
    "ExecuteTime": {
     "start_time": "2024-01-10T07:55:37.475462900Z"
    },
    "collapsed": false,
    "jupyter": {
     "outputs_hidden": false
    }
   },
   "outputs": [],
   "source": [
    "def get_weight_matrix(model, vocab):\n",
    "    vocab_size = len(vocab) + 1\n",
    "    weight_matrix = np.zeros((vocab_size, EMBEDDING_DIM))\n",
    "    for word, i in vocab.items():\n",
    "        weight_matrix[i] = model[word]\n",
    "    return weight_matrix"
   ]
  },
  {
   "cell_type": "code",
   "execution_count": 20,
   "metadata": {
    "ExecuteTime": {
     "start_time": "2024-01-10T07:55:37.476463400Z"
    },
    "colab": {
     "base_uri": "https://localhost:8080/"
    },
    "executionInfo": {
     "elapsed": 1494,
     "status": "ok",
     "timestamp": 1700997494710,
     "user": {
      "displayName": "Thomas Durlacher",
      "userId": "14590206385638367679"
     },
     "user_tz": -60
    },
    "id": "xz2kgPvMU2Cg",
    "outputId": "c14009bc-9754-4825-a566-6722ff4c2de5"
   },
   "outputs": [
    {
     "name": "stdout",
     "output_type": "stream",
     "text": [
      "WARNING:tensorflow:From C:\\Users\\thoma\\anaconda3\\Lib\\site-packages\\keras\\src\\backend.py:873: The name tf.get_default_graph is deprecated. Please use tf.compat.v1.get_default_graph instead.\n",
      "\n",
      "WARNING:tensorflow:From C:\\Users\\thoma\\anaconda3\\Lib\\site-packages\\keras\\src\\optimizers\\__init__.py:309: The name tf.train.Optimizer is deprecated. Please use tf.compat.v1.train.Optimizer instead.\n",
      "\n",
      "Model: \"sequential\"\n",
      "_________________________________________________________________\n",
      " Layer (type)                Output Shape              Param #   \n",
      "=================================================================\n",
      " embedding (Embedding)       (None, 20, 100)           1000000   \n",
      "                                                                 \n",
      " bidirectional (Bidirection  (None, 20, 256)           234496    \n",
      " al)                                                             \n",
      "                                                                 \n",
      " dropout (Dropout)           (None, 20, 256)           0         \n",
      "                                                                 \n",
      " bidirectional_1 (Bidirecti  (None, 256)               394240    \n",
      " onal)                                                           \n",
      "                                                                 \n",
      " dropout_1 (Dropout)         (None, 256)               0         \n",
      "                                                                 \n",
      " dense (Dense)               (None, 1)                 257       \n",
      "                                                                 \n",
      "=================================================================\n",
      "Total params: 1628993 (6.21 MB)\n",
      "Trainable params: 1628993 (6.21 MB)\n",
      "Non-trainable params: 0 (0.00 Byte)\n",
      "_________________________________________________________________\n"
     ]
    }
   ],
   "source": [
    "import tensorflow as tf\n",
    "from tensorflow.keras.models import Sequential\n",
    "from tensorflow.keras.layers import Embedding, Bidirectional, LSTM, Dropout, Dense\n",
    "\n",
    "# Define the model\n",
    "model = Sequential()\n",
    "# embedding_vectors = get_weight_matrix(w2v_model.wv, word_index)\n",
    "# [embedding_vectors]\n",
    "model.add(tf.keras.layers.Embedding(VOCAB_SIZE,DIMENSION,input_length=len(cols)))\n",
    "\n",
    "# Bidirectional LSTM layer with return_sequences=True\n",
    "model.add(Bidirectional(LSTM(128, return_sequences=True)))\n",
    "\n",
    "# Dropout layer to prevent overfitting\n",
    "model.add(Dropout(0.2))\n",
    "\n",
    "# Bidirectional LSTM layer\n",
    "model.add(Bidirectional(LSTM(128)))\n",
    "\n",
    "# Dropout layer\n",
    "model.add(Dropout(0.2))\n",
    "\n",
    "# Dense layer with sigmoid activation for binary classification\n",
    "model.add(Dense(1, activation=\"sigmoid\"))\n",
    "\n",
    "# Compile the model\n",
    "model.compile(optimizer=\"adam\", loss=\"binary_crossentropy\", metrics=[\"accuracy\"])\n",
    "\n",
    "# Display the model summary\n",
    "model.summary()\n"
   ]
  },
  {
   "cell_type": "code",
   "execution_count": null,
   "metadata": {
    "ExecuteTime": {
     "start_time": "2024-01-10T07:55:37.476463400Z"
    },
    "collapsed": false,
    "jupyter": {
     "outputs_hidden": false
    }
   },
   "outputs": [],
   "source": []
  },
  {
   "cell_type": "markdown",
   "metadata": {
    "collapsed": false,
    "jupyter": {
     "outputs_hidden": false
    }
   },
   "source": [
    "monitor: The metric to monitor for early stopping. In this case, it's set to \"val_accuracy,\" which means it monitors the validation accuracy.\n",
    "patience: The number of epochs with no improvement after which training will be stopped. If the validation accuracy does not improve for three consecutive epochs (patience=3), training will stop.\n",
    "restore_best_weights: If set to True, the model weights will be restored to the best values observed during training.\n",
    "\n",
    " trains the model using the training data (X_train, y_train) and validates on the test data (X_test, y_test). The training process is configured to run for a maximum of 20 epochs, with a batch size of 64.\n",
    "\n",
    "The callbacks parameter is used to include the EarlyStopping callback during training. This means that the training process will monitor the validation accuracy, and if it doesn't improve for three consecutive epochs, training will be stopped, and the model weights will be restored to the best observed values.\n",
    "\n",
    "The training history, including loss and accuracy metrics for each epoch, will be stored in the history variable. This information can be useful for analyzing the model's performance over time and making decisions about further training or model adjustments."
   ]
  },
  {
   "cell_type": "code",
   "execution_count": 21,
   "metadata": {
    "ExecuteTime": {
     "start_time": "2024-01-10T07:55:37.477462400Z"
    },
    "colab": {
     "background_save": true,
     "base_uri": "https://localhost:8080/"
    },
    "executionInfo": {
     "elapsed": 58196,
     "status": "ok",
     "timestamp": 1700997803265,
     "user": {
      "displayName": "Thomas Durlacher",
      "userId": "14590206385638367679"
     },
     "user_tz": -60
    },
    "id": "TmOUJt2EU1_G",
    "outputId": "07c10c39-41db-4246-9811-ebbabb00190c"
   },
   "outputs": [
    {
     "name": "stdout",
     "output_type": "stream",
     "text": [
      "Epoch 1/20\n",
      "WARNING:tensorflow:From C:\\Users\\thoma\\anaconda3\\Lib\\site-packages\\keras\\src\\utils\\tf_utils.py:492: The name tf.ragged.RaggedTensorValue is deprecated. Please use tf.compat.v1.ragged.RaggedTensorValue instead.\n",
      "\n",
      "WARNING:tensorflow:From C:\\Users\\thoma\\anaconda3\\Lib\\site-packages\\keras\\src\\engine\\base_layer_utils.py:384: The name tf.executing_eagerly_outside_functions is deprecated. Please use tf.compat.v1.executing_eagerly_outside_functions instead.\n",
      "\n",
      "268/268 [==============================] - 10s 25ms/step - loss: 0.4381 - accuracy: 0.8127 - val_loss: 0.3848 - val_accuracy: 0.8396\n",
      "Epoch 2/20\n",
      "268/268 [==============================] - 6s 23ms/step - loss: 0.3176 - accuracy: 0.8658 - val_loss: 0.3855 - val_accuracy: 0.8345\n",
      "Epoch 3/20\n",
      "268/268 [==============================] - 6s 23ms/step - loss: 0.2563 - accuracy: 0.8950 - val_loss: 0.4104 - val_accuracy: 0.8254\n",
      "Epoch 4/20\n",
      "268/268 [==============================] - 6s 23ms/step - loss: 0.1984 - accuracy: 0.9223 - val_loss: 0.4910 - val_accuracy: 0.8195\n"
     ]
    }
   ],
   "source": [
    "earlyStopping = tf.keras.callbacks.EarlyStopping(monitor=\"val_accuracy\",patience=3,restore_best_weights=True,)\n",
    "\n",
    "history = model.fit(X_train,y_train,validation_data=(X_test,y_test),epochs=20,batch_size=64, callbacks=[earlyStopping])"
   ]
  },
  {
   "cell_type": "markdown",
   "metadata": {
    "collapsed": false,
    "jupyter": {
     "outputs_hidden": false
    }
   },
   "source": [
    "# Model Evaluation"
   ]
  },
  {
   "cell_type": "code",
   "execution_count": 22,
   "metadata": {
    "ExecuteTime": {
     "start_time": "2024-01-10T07:55:37.478462300Z"
    },
    "colab": {
     "background_save": true
    },
    "id": "xW6H4h4cU15l"
   },
   "outputs": [],
   "source": [
    "df = pd.DataFrame(history.history)\n",
    "df_loss = df[['loss', 'val_loss']]\n",
    "df_acc =  df[['accuracy', 'val_accuracy']]"
   ]
  },
  {
   "cell_type": "code",
   "execution_count": 23,
   "metadata": {
    "ExecuteTime": {
     "start_time": "2024-01-10T07:55:37.478462300Z"
    },
    "colab": {
     "background_save": true
    },
    "id": "oFYYl6m4U1sR",
    "outputId": "84bc86ea-3625-4992-e079-7d7e017612fd"
   },
   "outputs": [
    {
     "name": "stderr",
     "output_type": "stream",
     "text": [
      "C:\\Users\\thoma\\anaconda3\\Lib\\site-packages\\seaborn\\_oldcore.py:1498: FutureWarning: is_categorical_dtype is deprecated and will be removed in a future version. Use isinstance(dtype, CategoricalDtype) instead\n",
      "  if pd.api.types.is_categorical_dtype(vector):\n",
      "C:\\Users\\thoma\\anaconda3\\Lib\\site-packages\\seaborn\\_oldcore.py:1498: FutureWarning: is_categorical_dtype is deprecated and will be removed in a future version. Use isinstance(dtype, CategoricalDtype) instead\n",
      "  if pd.api.types.is_categorical_dtype(vector):\n",
      "C:\\Users\\thoma\\anaconda3\\Lib\\site-packages\\seaborn\\_oldcore.py:1498: FutureWarning: is_categorical_dtype is deprecated and will be removed in a future version. Use isinstance(dtype, CategoricalDtype) instead\n",
      "  if pd.api.types.is_categorical_dtype(vector):\n",
      "C:\\Users\\thoma\\anaconda3\\Lib\\site-packages\\seaborn\\_oldcore.py:1498: FutureWarning: is_categorical_dtype is deprecated and will be removed in a future version. Use isinstance(dtype, CategoricalDtype) instead\n",
      "  if pd.api.types.is_categorical_dtype(vector):\n",
      "C:\\Users\\thoma\\anaconda3\\Lib\\site-packages\\seaborn\\_oldcore.py:1498: FutureWarning: is_categorical_dtype is deprecated and will be removed in a future version. Use isinstance(dtype, CategoricalDtype) instead\n",
      "  if pd.api.types.is_categorical_dtype(vector):\n",
      "C:\\Users\\thoma\\anaconda3\\Lib\\site-packages\\seaborn\\_oldcore.py:1498: FutureWarning: is_categorical_dtype is deprecated and will be removed in a future version. Use isinstance(dtype, CategoricalDtype) instead\n",
      "  if pd.api.types.is_categorical_dtype(vector):\n",
      "C:\\Users\\thoma\\anaconda3\\Lib\\site-packages\\seaborn\\_oldcore.py:1498: FutureWarning: is_categorical_dtype is deprecated and will be removed in a future version. Use isinstance(dtype, CategoricalDtype) instead\n",
      "  if pd.api.types.is_categorical_dtype(vector):\n",
      "C:\\Users\\thoma\\anaconda3\\Lib\\site-packages\\seaborn\\_oldcore.py:1498: FutureWarning: is_categorical_dtype is deprecated and will be removed in a future version. Use isinstance(dtype, CategoricalDtype) instead\n",
      "  if pd.api.types.is_categorical_dtype(vector):\n",
      "C:\\Users\\thoma\\anaconda3\\Lib\\site-packages\\seaborn\\_oldcore.py:1498: FutureWarning: is_categorical_dtype is deprecated and will be removed in a future version. Use isinstance(dtype, CategoricalDtype) instead\n",
      "  if pd.api.types.is_categorical_dtype(vector):\n",
      "C:\\Users\\thoma\\anaconda3\\Lib\\site-packages\\seaborn\\_oldcore.py:1498: FutureWarning: is_categorical_dtype is deprecated and will be removed in a future version. Use isinstance(dtype, CategoricalDtype) instead\n",
      "  if pd.api.types.is_categorical_dtype(vector):\n",
      "C:\\Users\\thoma\\anaconda3\\Lib\\site-packages\\seaborn\\_oldcore.py:1498: FutureWarning: is_categorical_dtype is deprecated and will be removed in a future version. Use isinstance(dtype, CategoricalDtype) instead\n",
      "  if pd.api.types.is_categorical_dtype(vector):\n",
      "C:\\Users\\thoma\\anaconda3\\Lib\\site-packages\\seaborn\\_oldcore.py:1498: FutureWarning: is_categorical_dtype is deprecated and will be removed in a future version. Use isinstance(dtype, CategoricalDtype) instead\n",
      "  if pd.api.types.is_categorical_dtype(vector):\n",
      "C:\\Users\\thoma\\anaconda3\\Lib\\site-packages\\seaborn\\_oldcore.py:1119: FutureWarning: use_inf_as_na option is deprecated and will be removed in a future version. Convert inf values to NaN before operating instead.\n",
      "  with pd.option_context('mode.use_inf_as_na', True):\n",
      "C:\\Users\\thoma\\anaconda3\\Lib\\site-packages\\seaborn\\_oldcore.py:1119: FutureWarning: use_inf_as_na option is deprecated and will be removed in a future version. Convert inf values to NaN before operating instead.\n",
      "  with pd.option_context('mode.use_inf_as_na', True):\n",
      "C:\\Users\\thoma\\anaconda3\\Lib\\site-packages\\seaborn\\_oldcore.py:1498: FutureWarning: is_categorical_dtype is deprecated and will be removed in a future version. Use isinstance(dtype, CategoricalDtype) instead\n",
      "  if pd.api.types.is_categorical_dtype(vector):\n",
      "C:\\Users\\thoma\\anaconda3\\Lib\\site-packages\\seaborn\\_oldcore.py:1498: FutureWarning: is_categorical_dtype is deprecated and will be removed in a future version. Use isinstance(dtype, CategoricalDtype) instead\n",
      "  if pd.api.types.is_categorical_dtype(vector):\n",
      "C:\\Users\\thoma\\anaconda3\\Lib\\site-packages\\seaborn\\_oldcore.py:1498: FutureWarning: is_categorical_dtype is deprecated and will be removed in a future version. Use isinstance(dtype, CategoricalDtype) instead\n",
      "  if pd.api.types.is_categorical_dtype(vector):\n",
      "C:\\Users\\thoma\\anaconda3\\Lib\\site-packages\\seaborn\\_oldcore.py:1498: FutureWarning: is_categorical_dtype is deprecated and will be removed in a future version. Use isinstance(dtype, CategoricalDtype) instead\n",
      "  if pd.api.types.is_categorical_dtype(vector):\n",
      "C:\\Users\\thoma\\anaconda3\\Lib\\site-packages\\seaborn\\_oldcore.py:1498: FutureWarning: is_categorical_dtype is deprecated and will be removed in a future version. Use isinstance(dtype, CategoricalDtype) instead\n",
      "  if pd.api.types.is_categorical_dtype(vector):\n",
      "C:\\Users\\thoma\\anaconda3\\Lib\\site-packages\\seaborn\\_oldcore.py:1498: FutureWarning: is_categorical_dtype is deprecated and will be removed in a future version. Use isinstance(dtype, CategoricalDtype) instead\n",
      "  if pd.api.types.is_categorical_dtype(vector):\n",
      "C:\\Users\\thoma\\anaconda3\\Lib\\site-packages\\seaborn\\_oldcore.py:1498: FutureWarning: is_categorical_dtype is deprecated and will be removed in a future version. Use isinstance(dtype, CategoricalDtype) instead\n",
      "  if pd.api.types.is_categorical_dtype(vector):\n",
      "C:\\Users\\thoma\\anaconda3\\Lib\\site-packages\\seaborn\\_oldcore.py:1498: FutureWarning: is_categorical_dtype is deprecated and will be removed in a future version. Use isinstance(dtype, CategoricalDtype) instead\n",
      "  if pd.api.types.is_categorical_dtype(vector):\n",
      "C:\\Users\\thoma\\anaconda3\\Lib\\site-packages\\seaborn\\_oldcore.py:1498: FutureWarning: is_categorical_dtype is deprecated and will be removed in a future version. Use isinstance(dtype, CategoricalDtype) instead\n",
      "  if pd.api.types.is_categorical_dtype(vector):\n",
      "C:\\Users\\thoma\\anaconda3\\Lib\\site-packages\\seaborn\\_oldcore.py:1498: FutureWarning: is_categorical_dtype is deprecated and will be removed in a future version. Use isinstance(dtype, CategoricalDtype) instead\n",
      "  if pd.api.types.is_categorical_dtype(vector):\n",
      "C:\\Users\\thoma\\anaconda3\\Lib\\site-packages\\seaborn\\_oldcore.py:1498: FutureWarning: is_categorical_dtype is deprecated and will be removed in a future version. Use isinstance(dtype, CategoricalDtype) instead\n",
      "  if pd.api.types.is_categorical_dtype(vector):\n",
      "C:\\Users\\thoma\\anaconda3\\Lib\\site-packages\\seaborn\\_oldcore.py:1498: FutureWarning: is_categorical_dtype is deprecated and will be removed in a future version. Use isinstance(dtype, CategoricalDtype) instead\n",
      "  if pd.api.types.is_categorical_dtype(vector):\n",
      "C:\\Users\\thoma\\anaconda3\\Lib\\site-packages\\seaborn\\_oldcore.py:1119: FutureWarning: use_inf_as_na option is deprecated and will be removed in a future version. Convert inf values to NaN before operating instead.\n",
      "  with pd.option_context('mode.use_inf_as_na', True):\n",
      "C:\\Users\\thoma\\anaconda3\\Lib\\site-packages\\seaborn\\_oldcore.py:1119: FutureWarning: use_inf_as_na option is deprecated and will be removed in a future version. Convert inf values to NaN before operating instead.\n",
      "  with pd.option_context('mode.use_inf_as_na', True):\n"
     ]
    },
    {
     "data": {
      "image/png": "[encoded data removed]",
      "text/plain": [
       "<Figure size 1400x600 with 2 Axes>"
      ]
     },
     "metadata": {},
     "output_type": "display_data"
    }
   ],
   "source": [
    "import matplotlib.pyplot as plt\n",
    "import seaborn as sns\n",
    "\n",
    "sns.set(style=\"whitegrid\", palette=\"muted\", font_scale=1.2)\n",
    "\n",
    "fig, axes = plt.subplots(nrows=1, ncols=2, figsize=(14, 6))\n",
    "\n",
    "sns.lineplot(data=df_loss, ax=axes[0], linewidth=2.5, color='blue', linestyle='-', marker='o')\n",
    "axes[0].set_title('Training and Validation Loss')\n",
    "axes[0].set_xlabel('Epoch')\n",
    "axes[0].set_ylabel('Loss')\n",
    "\n",
    "sns.lineplot(data=df_acc, ax=axes[1], linewidth=2.5, color='green', linestyle='--', marker='s')\n",
    "axes[1].set_title('Training and Validation Accuracy')\n",
    "axes[1].set_xlabel('Epoch')\n",
    "axes[1].set_ylabel('Accuracy')\n",
    "\n",
    "plt.tight_layout()\n",
    "\n",
    "plt.savefig('LSTM_Training and Validation Loss_Accuracy.png')\n",
    "\n",
    "plt.show()\n"
   ]
  },
  {
   "cell_type": "markdown",
   "metadata": {
    "collapsed": false,
    "jupyter": {
     "outputs_hidden": false
    }
   },
   "source": [
    "Training Loss vs. Validation Loss:\n",
    "\n",
    "Training Loss: This is the loss calculated on the training data during each epoch of training. It represents how well the model is fitting the training data.\n",
    "Validation Loss: This is the loss calculated on a separate validation dataset (not used during training) during each epoch. It indicates how well the model is generalizing to new, unseen data.\n",
    "Relationship:\n",
    "\n",
    "In an ideal scenario, both training and validation loss decrease during training, indicating that the model is learning from the data and generalizing well. However, if the training loss continues to decrease while the validation loss starts to increase, it may indicate overfitting, where the model is memorizing the training data but not generalizing well to new data.\n",
    "Training Accuracy vs. Validation Accuracy:\n",
    "\n",
    "Training Accuracy: This is the accuracy calculated on the training data during each epoch. It represents the proportion of correctly classified instances in the training set.\n",
    "Validation Accuracy: This is the accuracy calculated on the validation dataset during each epoch. It indicates the model's ability to correctly classify instances in new, unseen data.\n",
    "Relationship:\n",
    "\n",
    "Similar to loss, in an ideal scenario, both training and validation accuracy increase during training. However, if the training accuracy is significantly higher than the validation accuracy, it may indicate overfitting."
   ]
  },
  {
   "cell_type": "markdown",
   "metadata": {
    "collapsed": false,
    "jupyter": {
     "outputs_hidden": false
    }
   },
   "source": [
    "Calculates a confusion matrix based on binary predictions from the model and visualizes it using a heatmap. The confusion matrix helps in assessing the performance of the model by showing the counts of true positives, true negatives, false positives, and false negatives.\n"
   ]
  },
  {
   "cell_type": "code",
   "execution_count": 24,
   "metadata": {
    "ExecuteTime": {
     "start_time": "2024-01-10T07:55:37.479463600Z"
    },
    "colab": {
     "background_save": true
    },
    "id": "3h0vS_GeU1f0",
    "outputId": "f81eacb7-46ba-45bb-f510-92faa23e7b45"
   },
   "outputs": [
    {
     "name": "stdout",
     "output_type": "stream",
     "text": [
      "179/179 [==============================] - 1s 4ms/step\n",
      "Confusion Matrix:\n",
      "[[ 682  686]\n",
      " [ 231 4118]]\n",
      "\n",
      "Classification Report:\n",
      "              precision    recall  f1-score   support\n",
      "\n",
      "           0       0.75      0.50      0.60      1368\n",
      "           1       0.86      0.95      0.90      4349\n",
      "\n",
      "    accuracy                           0.84      5717\n",
      "   macro avg       0.80      0.72      0.75      5717\n",
      "weighted avg       0.83      0.84      0.83      5717\n",
      "\n"
     ]
    },
    {
     "data": {
      "image/png": "[encoded data removed]",
      "text/plain": [
       "<Figure size 640x480 with 2 Axes>"
      ]
     },
     "metadata": {},
     "output_type": "display_data"
    }
   ],
   "source": [
    "import numpy as np\n",
    "from sklearn.metrics import confusion_matrix, classification_report\n",
    "import matplotlib.pyplot as plt\n",
    "\n",
    "y_pred_prob = model.predict(X_test)\n",
    "\n",
    "threshold = 0.5\n",
    "y_pred = (y_pred_prob > threshold).astype(np.int32)\n",
    "\n",
    "cnf_matrix = confusion_matrix(y_test, y_pred)\n",
    "\n",
    "print(\"Confusion Matrix:\")\n",
    "print(cnf_matrix)\n",
    "\n",
    "print(\"\\nClassification Report:\")\n",
    "print(classification_report(y_test, y_pred))\n",
    "\n",
    "plt.imshow(cnf_matrix, interpolation=\"nearest\", cmap=plt.cm.Blues)\n",
    "plt.title(\"Confusion Matrix\")\n",
    "plt.colorbar()\n",
    "\n",
    "classes = [\"False News\", \"True News\"]  \n",
    "tick_marks = np.arange(len(classes))\n",
    "plt.xticks(tick_marks, classes, rotation=45)\n",
    "plt.yticks(tick_marks, classes)\n",
    "\n",
    "plt.xlabel(\"Predicted Label\")\n",
    "plt.ylabel(\"True Label\")\n",
    "\n",
    "plt.savefig('LSTM_Confusion Matrix.png')\n",
    "\n",
    "plt.show()\n"
   ]
  },
  {
   "cell_type": "markdown",
   "metadata": {
    "collapsed": false,
    "jupyter": {
     "outputs_hidden": false
    }
   },
   "source": [
    "TP (True Positive): News articles correctly identified as fake.\n",
    "TN (True Negative): News articles correctly identified as not fake.\n",
    "FP (False Positive): News articles incorrectly identified as fake.\n",
    "FN (False Negative): News articles incorrectly identified as not fake."
   ]
  },
  {
   "cell_type": "markdown",
   "metadata": {
    "collapsed": false,
    "jupyter": {
     "outputs_hidden": false
    }
   },
   "source": [
    "# Conclusion"
   ]
  },
  {
   "cell_type": "markdown",
   "metadata": {
    "collapsed": false,
    "jupyter": {
     "outputs_hidden": false
    }
   },
   "source": [
    "In conclusion, this paper has delved into the realm of fake news detection, employing LSTM (Long Short-Term Memory) models as a sophisticated tool for this task. The investigation has revealed promising results in terms of accuracy, showcasing the model's ability to discern between authentic and deceptive information with a commendable precision.\n",
    "However, a critical observation emerges in the form of overfitting, highlighting a significant challenge in the current model implementation. The overfitting phenomenon is attributed to the scarcity of training data. As the LSTM model tends to memorize patterns within the limited dataset rather than generalizing well to new, unseen data, its performance may not be as robust in real-world scenarios with diverse and evolving information.\n",
    "This revelation underscores the importance of addressing the data limitations to enhance the model's robustness and generalizability. Future endeavors should focus on augmenting the dataset, ensuring a more comprehensive representation of various linguistic nuances and deceptive tactics employed in the dissemination of fake news.\n",
    "Moreover, fine-tuning the hyperparameters and exploring regularization techniques can serve as valuable strategies to mitigate overfitting without compromising the model's high accuracy. Striking a balance between model complexity and the available data will be pivotal in achieving a more resilient and reliable fake news detection system.\n",
    "In essence, while the LSTM models have showcased their prowess in discerning the authenticity of information, the journey towards a more effective and practical solution involves a concerted effort to amass diverse and ample data, coupled with meticulous model optimization. Only through such holistic advancements can we harness the true potential of LSTM models in the relentless pursuit of combating fake news in the digital landscape."
   ]
  },
  {
   "cell_type": "code",
   "execution_count": null,
   "metadata": {},
   "outputs": [],
   "source": []
  }
 ],
 "metadata": {
  "colab": {
   "authorship_tag": "ABX9TyPAcHKZ2LyCDssv8Y7I7JLL",
   "provenance": [
    {
     "file_id": "1hOHHxvk03y9b3kggTHHnhjTb6fhNItRa",
     "timestamp": 1701001958575
    }
   ]
  },
  "kernelspec": {
   "display_name": "Python 3 (ipykernel)",
   "language": "python",
   "name": "python3"
  },
  "language_info": {
   "codemirror_mode": {
    "name": "ipython",
    "version": 3
   },
   "file_extension": ".py",
   "mimetype": "text/x-python",
   "name": "python",
   "nbconvert_exporter": "python",
   "pygments_lexer": "ipython3",
   "version": "3.11.5"
  }
 },
 "nbformat": 4,
 "nbformat_minor": 4
}
